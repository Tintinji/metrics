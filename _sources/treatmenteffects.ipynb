{
 "cells": [
  {
   "cell_type": "markdown",
   "id": "e0d51c66",
   "metadata": {},
   "source": [
    "# Treatment Effects\n",
    "- Individual treatment effect\n",
    "- Average treatment effect(ATE)\n",
    "- Average treatment effect of treated(ATT)\n",
    "- Local average treatment effect(LATE)\n",
    "- Marginal treatment effect(MTE)\n",
    "\n",
    "## Relationships of TEs"
   ]
  },
  {
   "cell_type": "code",
   "execution_count": null,
   "id": "c49bf71a",
   "metadata": {},
   "outputs": [],
   "source": []
  },
  {
   "cell_type": "code",
   "execution_count": 1,
   "id": "b48e525d",
   "metadata": {},
   "outputs": [
    {
     "name": "stdout",
     "output_type": "stream",
     "text": [
      "IPyStata is loaded in batch mode.\n"
     ]
    }
   ],
   "source": [
    "import ipystata\n",
    "from ipystata.config import config_stata  \n",
    "# https://github.com/TiesdeKok/ipystata/tree/master/#setupunix\n",
    "# This shows how to find the \"Stata executable\" in a Unix(MacOS) system\n",
    "config_stata(\"/Applications/Stata/StataSE.app/Contents/MacOS/StataSE\", force_batch=True)  "
   ]
  },
  {
   "cell_type": "code",
   "execution_count": 2,
   "id": "507bc52d",
   "metadata": {},
   "outputs": [
    {
     "name": "stdout",
     "output_type": "stream",
     "text": [
      "\n",
      "Hello, I am printed in Stata.\n"
     ]
    }
   ],
   "source": [
    "%%stata\n",
    "\n",
    "display \"Hello, I am printed in Stata.\"  "
   ]
  },
  {
   "cell_type": "code",
   "execution_count": null,
   "id": "d067087b",
   "metadata": {},
   "outputs": [],
   "source": []
  }
 ],
 "metadata": {
  "kernelspec": {
   "display_name": "Python 3",
   "language": "python",
   "name": "python3"
  },
  "language_info": {
   "codemirror_mode": {
    "name": "ipython",
    "version": 3
   },
   "file_extension": ".py",
   "mimetype": "text/x-python",
   "name": "python",
   "nbconvert_exporter": "python",
   "pygments_lexer": "ipython3",
   "version": "3.8.8"
  },
  "toc": {
   "base_numbering": 1,
   "nav_menu": {},
   "number_sections": true,
   "sideBar": true,
   "skip_h1_title": false,
   "title_cell": "Table of Contents",
   "title_sidebar": "Contents",
   "toc_cell": false,
   "toc_position": {},
   "toc_section_display": true,
   "toc_window_display": false
  }
 },
 "nbformat": 4,
 "nbformat_minor": 5
}
