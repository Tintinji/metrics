{
 "cells": [
  {
   "cell_type": "markdown",
   "id": "e0d51c66",
   "metadata": {},
   "source": [
    "# Treatment Effects\n",
    "\n",
    "When talking about the [endogeneity](https://www.stata.com/meeting/spain16/slides/pinzon-spain16.pdf), economists are usually little bit stressed out. In fact, endogeneity is so pervasive and annoying that every forward step in this area will be celebrated and memorized.\n",
    "\n",
    "Today, we will look into the **treatment effect perspective** of dealing with endogeneity.\n",
    "- **Individual** treatment effect (ITE)\n",
    "- **Average** treatment effect (ATE)\n",
    "- **Average** treatment effect of treated (ATT)\n",
    "- **Local** average treatment effect (LATE)\n",
    "- **Marginal** treatment effect (MTE)"
   ]
  },
  {
   "cell_type": "markdown",
   "id": "5480ac46",
   "metadata": {},
   "source": [
    "## Preparation of Capturing TEs\n",
    "\n",
    "### Relationships of TEs\n",
    "\n",
    "First, I will make this overall statement: **ITE** is adorable but could never be measured directly. **ATE(ATT)** is an population measurement of the treatment effect, which is sensitive and sometimes weak. Furthermore, we could look into different scales of subpopulation(cohort) and derive the treatment effect accordingly, which are **LATE** and **MTE**.\n",
    "\n",
    "Here, we also give some math interpretation of the terms mentioned above. In Econometrics, we have a [**Potential Outcome Context**](https://matheusfacure.github.io/python-causality-handbook/01-Introduction-To-Causality.html)(*This is a wonderful book chapter for causal inference! Look through this page if you are not familiar with this context.*) , which defines the counterfactual in a mathematical approach.\n",
    "\n",
    "### Constructing a 'Unknown' prediction problem\n",
    "\n",
    "In a God's view, she sees all the possibilities(**Potential Outcomes**),\n",
    "\n",
    "$$Y_{i} = \\left \\{\\begin{array}{ll}\n",
    "      Y_{0i}, \\text{unit i without the treatment};\\\\\n",
    "      Y_{1i}, \\text{unit i with the treatment}.\n",
    "    \\end{array} \\right.$$\n",
    "\n",
    "she then knows the **Individual** treatment effect (ITE) easily as,\n",
    "\n",
    "$$ {ITE}_{i} = Y_{1i} - Y_{0i}, \\forall  i \\in population $$\n",
    "\n",
    "But for us humans(econometricians), we only observe the realized outcome of $Y_{i}$, either treated or untreated, while never both. Then, we could just construct **Average** treatment effect (ATE) as,\n",
    "\n",
    "$$ATE = E[Y_{1i}-Y_{0i}]$$\n",
    "\n",
    "or an even smaller scale(only caring about the treated) called **Average** treatment effect of treated (ATT) as, \n",
    "\n",
    "$$ATT = E[Y_{1i}-Y_{0i}| D_{i} = 1]$$\n",
    "\n",
    "given that treatment notation as $D_{i} = \\left \\{\\begin{array}{ll}\n",
    "      1, \\text{unit i is treated};\\\\\n",
    "      0, \\text{otherwise}.\\end{array} \\right.$. If we look in to the details, we could find the real barrier of this estimation method, the unknown of untreated potential outcome of the treated group.\n",
    "      \n",
    "$$ATT = E[Y_{1i}-Y_{0i}| D_{i} = 1] = \\underbrace{E[Y_{1i}| D_{i} = 1]}_{E[Y_{i}| D_{i} = 1], observed} - \\underbrace{E[Y_{0i}| D_{i} = 1]}_{unknown} $$\n",
    "\n",
    "In this circumstance, we could say the ATE estimation problem is now reduced to a $E[Y_{0i}| D_{i} = 1]$ prediction problem. The better prediction we get of \"unknown\" part, the exacter estimation we will get on ATE.\n"
   ]
  },
  {
   "cell_type": "markdown",
   "id": "34b13613",
   "metadata": {},
   "source": [
    "## Solving the 'Unknown' prediction problem\n",
    "\n",
    "In this section, we will look into some methods of predicting the **'Unknown'($E[Y_{0i}| D_{i} = 1]$)** in previous section. Some methods may seems silly at first glimpse, but this procedure shows the essence and **foundation** of the whole theories.\n",
    "\n",
    "<figure>\n",
    "<img src='https://149662705.v2.pressablecdn.com/wp-content/uploads/2020/12/21cf4a_830a45b8c4d04c5b9ffc674c905000f9_mv2_d_1676_1300_s_2.jpg' alt=\"\" width=1300 height=1000 />\n",
    "<figcaption align = \"center\"><b>Always...always pay enough attention to bias!</b></figcaption>\n",
    "</figure>"
   ]
  },
  {
   "cell_type": "code",
   "execution_count": 17,
   "id": "42dcc3c4",
   "metadata": {},
   "outputs": [
    {
     "data": {
      "image/png": "[encoded data removed]",
      "text/plain": [
       "<Figure size 432x288 with 1 Axes>"
      ]
     },
     "metadata": {},
     "output_type": "display_data"
    }
   ],
   "source": [
    "# import modules\n",
    "from matplotlib_venn import venn2\n",
    "from matplotlib import pyplot as plt\n",
    "%matplotlib inline\n",
    "\n",
    "# depict venn diagram\n",
    "venn2(subsets = (50, 40, 0), set_labels = ('treated(obs=50)', 'untreated(obs=40)'))\n",
    "plt.show()"
   ]
  },
  {
   "cell_type": "markdown",
   "id": "7e07c781",
   "metadata": {},
   "source": [
    "### Method1 Using Average Untreated Outcome and Bias\n",
    "\n",
    "We may use a [Venn diagram](https://www.geeksforgeeks.org/how-to-create-and-customize-venn-diagrams-in-python/) to illustrate the story. First, we divide the population into two groups,'treated' and 'untreated'. Then, the God's view of data is like the table below.\n",
    "\n",
    "| potential $Y_{?i}$   |       $D_{i}= 1 $       |       $D_{i} = 0$      |\n",
    "|--------------|:-----------------------:|-----------------------:|\n",
    "| treated      |  $E[Y_{1i}| D_{i} = 1]$ | $E[Y_{1i}| D_{i} = 0]$ |\n",
    "| untreated    |  $E[Y_{0i}| D_{i} = 1]$ | $E[Y_{0i}| D_{i} = 0]$ |\n",
    "\n",
    "What we(econometricians) actually observe is the table below, with 2 missing parts as blanks.\n",
    "\n",
    "| REAL $Y_{i}$  |       $D_{i}= 1 $      |       $D_{i} = 0$     |\n",
    "|--------------|:----------------------:|----------------------:|\n",
    "| treated      |  $E[Y_{i}|D_{i} = 1]$  |                       |\n",
    "| untreated    |                        | $E[Y_{i}|D_{i} = 0]$  |\n",
    "\n",
    "Now, an intuitive way of predicting **'Unknown'($E[Y_{0i}| D_{i} = 1]$)** is using $E[Y_{i}|D_{i} = 0]$ instead, which is available in hand. In this way, we can separate the result into two parts.\n",
    "\n",
    "$$\\underbrace{E[Y_{i}|D_{i} = 1]-E[Y_{i}|D_{i} = 0]}_{direct-difference} = \\underbrace{(E[Y_{i}|D_{i} = 1]-E[Y_{0i}|D_{i} = 1])}_{ATT} + \\underbrace{(E[Y_{0i}|D_{i} = 1]-E[Y_{i}| D_{i} = 0])}_{Bias} $$\n",
    "\n",
    "From the breakdown, we could see that ATT is properly estimated if and only if $Bias = 0$. This holds when $E[Y_{0i}|D_{i} = 1] = E[Y_{i}| D_{i} = 0]$, which indicates the pre-treatment mean of two groups are the same. In practice, this situation is mostly constructed by designing a [Randomised Controlled Trials (RCT)] (https://en.wikipedia.org/wiki/Randomized_controlled_trial). **The RCT magic ensures the direct-difference to be causal effect.**"
   ]
  },
  {
   "cell_type": "markdown",
   "id": "d46a9a2b",
   "metadata": {},
   "source": [
    "<img src='https://emj.bmj.com/content/emermed/20/2/164/F1.medium.gif'>\n",
    "\n",
    "The image is from a [study](https://emj.bmj.com/content/20/2/164) on RCT principles."
   ]
  },
  {
   "cell_type": "code",
   "execution_count": 7,
   "id": "b48e525d",
   "metadata": {},
   "outputs": [],
   "source": [
    "import ipystata\n",
    "from ipystata.config import config_stata  \n",
    "# https://github.com/TiesdeKok/ipystata/tree/master/#setupunix\n",
    "# This shows how to find the \"Stata executable\" in a Unix(MacOS) system\n",
    "config_stata(\"/Applications/Stata/StataSE.app/Contents/MacOS/StataSE\", force_batch=True)  "
   ]
  },
  {
   "cell_type": "code",
   "execution_count": 2,
   "id": "507bc52d",
   "metadata": {},
   "outputs": [
    {
     "name": "stdout",
     "output_type": "stream",
     "text": [
      "\n",
      "Hello, I am printed in Stata.\n"
     ]
    }
   ],
   "source": [
    "%%stata\n",
    "\n",
    "display \"Hello, I am printed in Stata.\"  "
   ]
  },
  {
   "cell_type": "code",
   "execution_count": null,
   "id": "d067087b",
   "metadata": {},
   "outputs": [],
   "source": []
  }
 ],
 "metadata": {
  "kernelspec": {
   "display_name": "Python 3",
   "language": "python",
   "name": "python3"
  },
  "language_info": {
   "codemirror_mode": {
    "name": "ipython",
    "version": 3
   },
   "file_extension": ".py",
   "mimetype": "text/x-python",
   "name": "python",
   "nbconvert_exporter": "python",
   "pygments_lexer": "ipython3",
   "version": "3.8.8"
  },
  "toc": {
   "base_numbering": 1,
   "nav_menu": {},
   "number_sections": true,
   "sideBar": true,
   "skip_h1_title": false,
   "title_cell": "Table of Contents",
   "title_sidebar": "Contents",
   "toc_cell": false,
   "toc_position": {},
   "toc_section_display": true,
   "toc_window_display": true
  }
 },
 "nbformat": 4,
 "nbformat_minor": 5
}
