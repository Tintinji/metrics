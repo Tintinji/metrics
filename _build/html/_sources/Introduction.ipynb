{
 "cells": [
  {
   "cell_type": "markdown",
   "id": "a362224f",
   "metadata": {},
   "source": [
    "# This is a game of Econometrics\n",
    "\n",
    "I studied ECON5106(Advanced Applied Econometrics) in UiO, fall 2021.Here are some notes and ideas from the lectures and readings.\n",
    "\n",
    "> The materials are heavily based on the course delivered by Zhiyang, Jia, from Statistics Norway.\n",
    "\n",
    "<img src = 'Endogeneity.png'>\n",
    "\n",
    "## Here is a list of the content in this book.\n",
    "\n",
    "### Maximum Likelihood\n",
    "\n",
    "-   Underlying principle of ML(discrete case without a Likelihood function)\n",
    "-   Construct a likelihood function, derive the **ML estimator**\n",
    "-   Find out the distribution of the estimator\n",
    "-   **Delta method(idea and applications)**\n",
    "-   3 tests application(Wald,LM,LR)\n",
    "\n",
    "### Generalized Moment Methods(GMM)\n",
    "\n",
    "-   Underlying principle of MM and GMM\n",
    "-   Analysis the notion of under-, exact, and over-identification\n",
    "-   Analysis the role of the weight matrix\n",
    "-   Analysis the notion of efcient GMM, and how this is obtained\n",
    "-   Analysis the Wald and Hansen J-test\n",
    "-   Be able to determine the functions g(), g_N(), and estimator“$\\beta_{GMM}$”for specific models, such as the linear regression model.\n",
    "-   Explain the relationship between i) GMM and 2SLS, and ii) GMM and MLE."
   ]
  },
  {
   "cell_type": "markdown",
   "id": "6e4f0d21",
   "metadata": {},
   "source": [
    "<img src=\"https://www.abbreviations.com/images/1731506_GMM.png\" alt=\"\">"
   ]
  },
  {
   "cell_type": "markdown",
   "id": "e0a25db7",
   "metadata": {},
   "source": [
    "I found this [**Funny CAT**](https://datascienceparichay.com/article/insert-image-in-a-jupyter-notebook/) when reviewing the markdown syntax.\n",
    "\n",
    "<img src=\"https://i0.wp.com/datascienceparichay.com/wp-content/uploads/2021/03/no_regrets_cat.jpg\" width=300 height=300 />\n",
    "\n",
    "And [an important site](https://www.markdownguide.org/basic-syntax) for markdown is also listed here."
   ]
  },
  {
   "cell_type": "markdown",
   "id": "68074bdf",
   "metadata": {},
   "source": [
    "### Non-parametric Methods\n",
    "\n",
    "-   Tell the difference between a **parametric**,**semi-parametric** and **nonparametric** model.\n",
    "-   The curse of dimensionality\n",
    "-   Histogram & Kernel density estimators\n",
    "-   Local constant, local linear regression\n",
    "-   Partial linear regression model\n",
    "-   The principles of bandwidth selection & **Bias-Variance** trade-off"
   ]
  },
  {
   "cell_type": "markdown",
   "id": "ad9c72d0",
   "metadata": {},
   "source": [
    "### Bootstrapping Methods\n",
    "\n",
    "-   Give an account for the principle of bootstrapping method.\n",
    "-   Understand and can construct the bootstrap variance and confidence interval.\n",
    "-   Understand and can perform hypothesis testing using bootstrap method.\n",
    "-   Explain the notion of bias correction.\n",
    "-   Understand the diferent bootstrap procedures for regression models.\n",
    "-   Basic grasp of the limitations of the bootstrap method."
   ]
  },
  {
   "cell_type": "markdown",
   "id": "2746b334",
   "metadata": {},
   "source": [
    "### Unconfoundedness\n",
    "\n",
    "-   (Non-parametric) regression approaches to treatment effect estimation that rely on selection on observables\n",
    "-   **Matching** as a weighting estimator\n",
    "-   Role of **common support** and extrapolation\n",
    "-   Balancing property of the propensity score\n",
    "-   Relation between matching and OLS"
   ]
  },
  {
   "cell_type": "markdown",
   "id": "1555b24a",
   "metadata": {},
   "source": [
    "<figure>\n",
    "<img src=\"matching.jpeg\" alt=\"\" width=100 height=100 />\n",
    "<figcaption align = \"center\"><b>This is perfect illustration of matching...</b></figcaption>\n",
    "</figure>"
   ]
  },
  {
   "cell_type": "markdown",
   "id": "50495bfa",
   "metadata": {},
   "source": [
    "### Partial Identification\n",
    "\n",
    "- The difference between **point** identification and **partial** identification.\n",
    "- Give examples of partial identification\n",
    "- Understand how the different bounding assumptions\n",
    "- Worst-Case (No-assumptions) \n",
    "- MTS and MTR \n",
    "- MIV \n",
    "- Understand how one can construct **confidence intervals** for a partial identified model"
   ]
  },
  {
   "cell_type": "markdown",
   "id": "f573da63",
   "metadata": {},
   "source": [
    "### Local Average Treatment Effects (LATE)\n",
    "\n",
    "- How IV addresses selection bias(**homogeneous/heterogeneous** treatment effects)\n",
    "- Interpret Local Average Treatment Effect (LATE) \n",
    "- Identify always takers, never takers, compliers, defiers(The tabular method)\n",
    "- What is monotonicity assumption? Why we need this?\n",
    "- What is independence assumption? exclusion restriction ? \n",
    "- How to measure instrument relevance (1st stage)?\n",
    "\n",
    "\n",
    "- Estimate not only effects but also **counterfactual outcome distributions** \n",
    "- Average causal response ? \n",
    "- IV produces weighted averages of ordered treatment effects \n",
    "- Covariates are naturally incorporated and 2SLS probably approximates causal CEF for compliers (but weighting not always innocuous)"
   ]
  },
  {
   "cell_type": "markdown",
   "id": "8b512cec",
   "metadata": {},
   "source": [
    "### Selection Models (Censoring & Truncation)\n",
    "\n",
    "- Difference between **censoring** and **truncation**  \n",
    "- ML approaches to correcting for the resulting bias \n",
    "- Correctly interpret results and construct **marginal effects**\n",
    "- Understand the **selection model** and it applications \n",
    "- 2-step, **ML estimation** \n",
    "- Nature of **identification**"
   ]
  },
  {
   "cell_type": "markdown",
   "id": "e83b23c7",
   "metadata": {},
   "source": [
    "### Marginal Treatment Effects (MTE)\n",
    "\n",
    "**Selection models and treatment effect estimation**\n",
    "\n"
   ]
  },
  {
   "cell_type": "markdown",
   "id": "27022604",
   "metadata": {},
   "source": [
    "### DID and Event studies\n",
    "\n",
    "\n"
   ]
  },
  {
   "cell_type": "markdown",
   "id": "de70ed68",
   "metadata": {},
   "source": [
    "### Machine Learning Topics"
   ]
  }
 ],
 "metadata": {
  "jupytext": {
   "text_representation": {
    "extension": ".md",
    "format_name": "pandoc",
    "format_version": "2.12",
    "jupytext_version": "1.11.5"
   }
  },
  "kernelspec": {
   "display_name": "Python 3",
   "language": "python",
   "name": "python3"
  },
  "language_info": {
   "codemirror_mode": {
    "name": "ipython",
    "version": 3
   },
   "file_extension": ".py",
   "mimetype": "text/x-python",
   "name": "python",
   "nbconvert_exporter": "python",
   "pygments_lexer": "ipython3",
   "version": "3.8.8"
  },
  "toc": {
   "base_numbering": 1,
   "nav_menu": {},
   "number_sections": true,
   "sideBar": true,
   "skip_h1_title": false,
   "title_cell": "Table of Contents",
   "title_sidebar": "Contents",
   "toc_cell": false,
   "toc_position": {},
   "toc_section_display": true,
   "toc_window_display": false
  }
 },
 "nbformat": 4,
 "nbformat_minor": 5
}
